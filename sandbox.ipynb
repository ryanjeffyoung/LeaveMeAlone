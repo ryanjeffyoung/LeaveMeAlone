{
 "metadata": {
  "language_info": {
   "codemirror_mode": {
    "name": "ipython",
    "version": 3
   },
   "file_extension": ".py",
   "mimetype": "text/x-python",
   "name": "python",
   "nbconvert_exporter": "python",
   "pygments_lexer": "ipython3",
   "version": "3.8.5-final"
  },
  "orig_nbformat": 2,
  "kernelspec": {
   "name": "python3",
   "display_name": "Python 3.8.5 64-bit",
   "metadata": {
    "interpreter": {
     "hash": "2db524e06e9f5f4ffedc911c917cb75e12dbc923643829bf417064a77eb14d37"
    }
   }
  }
 },
 "nbformat": 4,
 "nbformat_minor": 2,
 "cells": [
  {
   "cell_type": "code",
   "execution_count": null,
   "metadata": {},
   "outputs": [],
   "source": [
    "import datetime\n",
    "def main():\n",
    "    service = get_calendar_service()\n",
    "\n",
    "    calId = 'ryan.jeffery.young@gmail.com'\n",
    "\n",
    "    # call APi\n",
    "    now = datetime.datetime.utcnow().isoformat() + 'Z' # z for UTC time\n",
    "    tmr = datetime.datetime.utcnow() + timedelta(days=2)\n",
    "    tmr_utc = tmr.isoformat() + 'Z'\n",
    "\n",
    "    body = {\n",
    "           \"timeMin\": now,\n",
    "           \"timeMax\": tmr_utc,\n",
    "           \"timeZone\": \"PST\",\n",
    "           \"items\": [{\"id\": calId}]\n",
    "       }\n",
    "    \n",
    "    freebusy_result = service.freebusy().query(body=body).execute()\n",
    "\n",
    "    freebusy = freebusy_result[u'calendars']\n",
    "\n",
    "    busyList = freebusy[calId]['busy']\n",
    "\n",
    "\n",
    "    busy_cal = {}\n",
    "    for cal_name in freebusy:\n",
    "      busy_cal.update(freebusy[cal_name])\n",
    "\n",
    "    print((busyList[0])['start'])\n"
   ]
  },
  {
   "source": [
    "## Authentication"
   ],
   "cell_type": "markdown",
   "metadata": {}
  },
  {
   "cell_type": "code",
   "execution_count": 7,
   "metadata": {},
   "outputs": [],
   "source": [
    "import pickle\n",
    "import os.path\n",
    "from googleapiclient.discovery import build\n",
    "from google_auth_oauthlib.flow import InstalledAppFlow\n",
    "from google.auth.transport.requests import Request\n"
   ]
  },
  {
   "cell_type": "code",
   "execution_count": 12,
   "metadata": {},
   "outputs": [],
   "source": [
    "SCOPES = ['https://www.googleapis.com/auth/calendar.readonly']\n",
    "\n",
    "CREDENTIALS_FILE = 'credentials.json'"
   ]
  },
  {
   "cell_type": "code",
   "execution_count": 13,
   "metadata": {},
   "outputs": [],
   "source": [
    "creds = None\n",
    "    # The file token.pickle stores the user's access and refresh tokens, and is\n",
    "    # created automatically when the authorization flow completes for the first\n",
    "    # time.\n",
    "if os.path.exists('token.pickle'):\n",
    "    with open('token.pickle', 'rb') as token:\n",
    "        creds = pickle.load(token)\n",
    "    # If there are no (valid) credentials available, let the user log in.\n",
    "        if not creds or not creds.valid:\n",
    "            if creds and creds.expired and creds.refresh_token:\n",
    "                creds.refresh(Request())\n",
    "            else:\n",
    "                flow = InstalledAppFlow.from_client_secrets_file(\n",
    "                CREDENTIALS_FILE, SCOPES)\n",
    "                creds = flow.run_local_server(port=0)\n",
    "        # Save the credentials for the next run\n",
    "        with open('token.pickle', 'wb') as token:\n",
    "            pickle.dump(creds, token)\n",
    "service = build('calendar', 'v3', credentials=creds)"
   ]
  },
  {
   "source": [
    "## Call API\n"
   ],
   "cell_type": "markdown",
   "metadata": {}
  },
  {
   "cell_type": "code",
   "execution_count": 91,
   "metadata": {},
   "outputs": [],
   "source": [
    "import datetime\n",
    "from datetime import timedelta\n",
    "from datetimerange import DateTimeRange   \n",
    "from setup import get_calendar_service"
   ]
  },
  {
   "cell_type": "code",
   "execution_count": 21,
   "metadata": {},
   "outputs": [],
   "source": [
    "calId = 'ryan.jeffery.young@gmail.com'"
   ]
  },
  {
   "cell_type": "code",
   "execution_count": 97,
   "metadata": {},
   "outputs": [
    {
     "output_type": "execute_result",
     "data": {
      "text/plain": [
       "{'kind': 'calendar#freeBusy',\n",
       " 'timeMin': '2020-11-24T08:01:00.000Z',\n",
       " 'timeMax': '2020-11-25T08:00:00.000Z',\n",
       " 'calendars': {'ryan.jeffery.young@gmail.com': {'busy': [{'start': '2020-11-24T12:00:00-08:00',\n",
       "     'end': '2020-11-24T16:00:00-08:00'},\n",
       "    {'start': '2020-11-24T22:30:00-08:00',\n",
       "     'end': '2020-11-25T00:00:00-08:00'}]}}}"
      ]
     },
     "metadata": {},
     "execution_count": 97
    }
   ],
   "source": [
    "# get todays date\n",
    "today = datetime.date.today()\n",
    "tomorrow = today + timedelta(days=1)\n",
    "\n",
    "# convert date into datetime object at start of day, which is 800 UTC\n",
    "start = datetime.datetime(today.year, today.month, today.day, 8, 1, 0) # 8am UTC is 12am PST\n",
    "# convert to ISO format then append 'Z' for UTC time\n",
    "start_UTC = start.isoformat() + 'Z'\n",
    "\n",
    "end = datetime.datetime(today.year, today.month, tomorrow.day, 8, 0, 0) #7:59am UTC is 11:59pm PST\n",
    "end_UTC = end.isoformat() + 'Z'\n",
    "\n",
    "body = {\n",
    "           \"timeMin\": start_UTC,\n",
    "           \"timeMax\": end_UTC,\n",
    "           \"timeZone\": 'PST',\n",
    "           \"items\": [{\"id\": calId}]\n",
    "       }\n",
    "freebusy_result = service.freebusy().query(body=body).execute() # returns a dictionary \n",
    "\n",
    "freebusy_result"
   ]
  },
  {
   "cell_type": "code",
   "execution_count": 112,
   "metadata": {},
   "outputs": [
    {
     "output_type": "stream",
     "name": "stdout",
     "text": [
      "yuh\n"
     ]
    }
   ],
   "source": [
    "# set time range as start of today to end of day\n",
    "time_range = DateTimeRange(start_UTC, end_UTC)\n",
    "# get current time, in UTC\n",
    "now =  datetime.datetime.utcnow().isoformat() + '+00:00'\n",
    "future = datetime.datetime(2020, 11, 26, 8, 0, 0).isoformat() + '+00:00'\n",
    "\n",
    "if now in time_range:\n",
    "    print('yuh')\n",
    "else:\n",
    "    print('nah')\n"
   ]
  },
  {
   "cell_type": "code",
   "execution_count": 89,
   "metadata": {},
   "outputs": [
    {
     "output_type": "execute_result",
     "data": {
      "text/plain": [
       "[{'start': '2020-11-24T12:00:00-08:00', 'end': '2020-11-24T16:00:00-08:00'},\n",
       " {'start': '2020-11-24T22:30:00-08:00', 'end': '2020-11-24T23:59:00-08:00'}]"
      ]
     },
     "metadata": {},
     "execution_count": 89
    }
   ],
   "source": [
    "busy_list = freebusy_result['calendars'][calId]['busy'] # returns a list of busy times (in UTC)\n",
    "busy_list"
   ]
  },
  {
   "cell_type": "code",
   "execution_count": 29,
   "metadata": {},
   "outputs": [
    {
     "output_type": "execute_result",
     "data": {
      "text/plain": [
       "2"
      ]
     },
     "metadata": {},
     "execution_count": 29
    }
   ],
   "source": [
    "len(busy_list)"
   ]
  },
  {
   "cell_type": "code",
   "execution_count": 47,
   "metadata": {},
   "outputs": [
    {
     "output_type": "stream",
     "name": "stdout",
     "text": [
      "2020-11-24T00:00:00Z\n2020-11-24T23:59:59Z\n"
     ]
    }
   ],
   "source": []
  }
 ]
}