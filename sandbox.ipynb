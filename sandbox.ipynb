{
 "metadata": {
  "language_info": {
   "codemirror_mode": {
    "name": "ipython",
    "version": 3
   },
   "file_extension": ".py",
   "mimetype": "text/x-python",
   "name": "python",
   "nbconvert_exporter": "python",
   "pygments_lexer": "ipython3",
   "version": "3.9.0-final"
  },
  "orig_nbformat": 2,
  "kernelspec": {
   "name": "python3",
   "display_name": "Python 3.9.0 64-bit",
   "metadata": {
    "interpreter": {
     "hash": "ac59ebe37160ed0dfa835113d9b8498d9f09ceb179beaac4002f036b9467c963"
    }
   }
  }
 },
 "nbformat": 4,
 "nbformat_minor": 2,
 "cells": [
  {
   "cell_type": "code",
   "execution_count": null,
   "metadata": {},
   "outputs": [],
   "source": [
    "import datetime\n",
    "def main():\n",
    "    service = get_calendar_service()\n",
    "\n",
    "    calId = 'ryan.jeffery.young@gmail.com'\n",
    "\n",
    "    # call APi\n",
    "    now = datetime.datetime.utcnow().isoformat() + 'Z' # z for UTC time\n",
    "    tmr = datetime.datetime.utcnow() + timedelta(days=2)\n",
    "    tmr_utc = tmr.isoformat() + 'Z'\n",
    "\n",
    "    body = {\n",
    "           \"timeMin\": now,\n",
    "           \"timeMax\": tmr_utc,\n",
    "           \"timeZone\": \"PST\",\n",
    "           \"items\": [{\"id\": calId}]\n",
    "       }\n",
    "    \n",
    "    freebusy_result = service.freebusy().query(body=body).execute()\n",
    "\n",
    "    freebusy = freebusy_result[u'calendars']\n",
    "\n",
    "    busyList = freebusy[calId]['busy']\n",
    "\n",
    "\n",
    "    busy_cal = {}\n",
    "    for cal_name in freebusy:\n",
    "      busy_cal.update(freebusy[cal_name])\n",
    "\n",
    "    print((busyList[0])['start'])\n"
   ]
  },
  {
   "source": [
    "## Authentication"
   ],
   "cell_type": "markdown",
   "metadata": {}
  },
  {
   "cell_type": "code",
   "execution_count": 1,
   "metadata": {},
   "outputs": [],
   "source": [
    "import pickle\n",
    "import os.path\n",
    "from googleapiclient.discovery import build\n",
    "from google_auth_oauthlib.flow import InstalledAppFlow\n",
    "from google.auth.transport.requests import Request\n"
   ]
  },
  {
   "cell_type": "code",
   "execution_count": 2,
   "metadata": {},
   "outputs": [],
   "source": [
    "SCOPES = ['https://www.googleapis.com/auth/calendar.readonly']\n",
    "\n",
    "CREDENTIALS_FILE = 'credentials.json'"
   ]
  },
  {
   "cell_type": "code",
   "execution_count": 6,
   "metadata": {},
   "outputs": [],
   "source": [
    "creds = None\n",
    "    # The file token.pickle stores the user's access and refresh tokens, and is\n",
    "    # created automatically when the authorization flow completes for the first\n",
    "    # time.\n",
    "if os.path.exists('token.pickle'):\n",
    "    with open('token.pickle', 'rb') as token:\n",
    "        creds = pickle.load(token)\n",
    "    # If there are no (valid) credentials available, let the user log in.\n",
    "        if not creds or not creds.valid:\n",
    "            if creds and creds.expired and creds.refresh_token:\n",
    "                creds.refresh(Request())\n",
    "            else:\n",
    "                flow = InstalledAppFlow.from_client_secrets_file(\n",
    "                CREDENTIALS_FILE, SCOPES)\n",
    "                creds = flow.run_local_server(port=0)\n",
    "        # Save the credentials for the next run\n",
    "        with open('token.pickle', 'wb') as token:\n",
    "            pickle.dump(creds, token)\n",
    "service = build('calendar', 'v3', credentials=creds)"
   ]
  },
  {
   "source": [
    "## Call API\n"
   ],
   "cell_type": "markdown",
   "metadata": {}
  },
  {
   "cell_type": "code",
   "execution_count": 17,
   "metadata": {},
   "outputs": [],
   "source": [
    "import datetime\n",
    "import \n",
    "# from datetime import timedelta   \n",
    "from setup import get_calendar_service"
   ]
  },
  {
   "cell_type": "code",
   "execution_count": 15,
   "metadata": {},
   "outputs": [],
   "source": [
    "calId = 'ryan.jeffery.young@gmail.com'"
   ]
  },
  {
   "cell_type": "code",
   "execution_count": 52,
   "metadata": {},
   "outputs": [],
   "source": [
    "end = datetime.date.today()\n",
    "\n",
    "endTime = datetime.datetime(end.year, end.month, end.day, 0, 0, 0).isoformat() + 'Z'"
   ]
  },
  {
   "cell_type": "code",
   "execution_count": 53,
   "metadata": {},
   "outputs": [],
   "source": [
    "now = datetime.datetime.utcnow().isoformat() + 'Z' # z for UTC time\n",
    "tmr = datetime.datetime.utcnow() + timedelta(days=1)\n",
    "tmr_utc = tmr.isoformat() + 'Z'\n",
    "\n",
    "body = {\n",
    "           \"timeMin\": endTime,\n",
    "           \"timeMax\": tmr_utc,\n",
    "           \"timeZone\": \"PST\",\n",
    "           \"items\": [{\"id\": calId}]\n",
    "       }\n",
    "freebusy_result = service.freebusy().query(body=body).execute()"
   ]
  },
  {
   "cell_type": "code",
   "execution_count": 32,
   "metadata": {},
   "outputs": [
    {
     "output_type": "execute_result",
     "data": {
      "text/plain": [
       "'2020-11-24T04:34:36.164366Z'"
      ]
     },
     "metadata": {},
     "execution_count": 32
    }
   ],
   "source": []
  },
  {
   "cell_type": "code",
   "execution_count": 54,
   "metadata": {},
   "outputs": [
    {
     "output_type": "execute_result",
     "data": {
      "text/plain": [
       "{'kind': 'calendar#freeBusy',\n",
       " 'timeMin': '2020-11-23T00:00:00.000Z',\n",
       " 'timeMax': '2020-11-26T04:52:21.000Z',\n",
       " 'calendars': {'ryan.jeffery.young@gmail.com': {'busy': [{'start': '2020-11-23T09:00:00-08:00',\n",
       "     'end': '2020-11-23T09:15:00-08:00'},\n",
       "    {'start': '2020-11-25T09:00:00-08:00', 'end': '2020-11-25T09:15:00-08:00'},\n",
       "    {'start': '2020-11-25T13:00:00-08:00',\n",
       "     'end': '2020-11-25T13:30:00-08:00'}]}}}"
      ]
     },
     "metadata": {},
     "execution_count": 54
    }
   ],
   "source": [
    "freebusy_result # dict"
   ]
  },
  {
   "cell_type": "code",
   "execution_count": 23,
   "metadata": {},
   "outputs": [
    {
     "output_type": "execute_result",
     "data": {
      "text/plain": [
       "{'busy': [{'start': '2020-11-25T09:00:00-08:00',\n",
       "   'end': '2020-11-25T09:15:00-08:00'},\n",
       "  {'start': '2020-11-25T13:00:00-08:00', 'end': '2020-11-25T13:30:00-08:00'}]}"
      ]
     },
     "metadata": {},
     "execution_count": 23
    }
   ],
   "source": [
    "freebusy_result['calendars'][calId] # dict"
   ]
  },
  {
   "cell_type": "code",
   "execution_count": 30,
   "metadata": {},
   "outputs": [
    {
     "output_type": "execute_result",
     "data": {
      "text/plain": [
       "[{'start': '2020-11-25T09:00:00-08:00', 'end': '2020-11-25T09:15:00-08:00'},\n",
       " {'start': '2020-11-25T13:00:00-08:00', 'end': '2020-11-25T13:30:00-08:00'}]"
      ]
     },
     "metadata": {},
     "execution_count": 30
    }
   ],
   "source": [
    "busy_list = freebusy_result['calendars'][calId]['busy'] # list\n",
    "busy_list"
   ]
  },
  {
   "cell_type": "code",
   "execution_count": 29,
   "metadata": {},
   "outputs": [
    {
     "output_type": "execute_result",
     "data": {
      "text/plain": [
       "2"
      ]
     },
     "metadata": {},
     "execution_count": 29
    }
   ],
   "source": [
    "len(busy_list)"
   ]
  },
  {
   "cell_type": "code",
   "execution_count": 33,
   "metadata": {},
   "outputs": [
    {
     "output_type": "execute_result",
     "data": {
      "text/plain": [
       "'2020-11-23T00:00:00'"
      ]
     },
     "metadata": {},
     "execution_count": 33
    }
   ],
   "source": [
    "start = datetime.datetime(2020, 11, 23).isoformat()\n",
    "\n",
    "start"
   ]
  },
  {
   "cell_type": "code",
   "execution_count": 50,
   "metadata": {},
   "outputs": [
    {
     "output_type": "execute_result",
     "data": {
      "text/plain": [
       "'2020-11-23T00:00:00'"
      ]
     },
     "metadata": {},
     "execution_count": 50
    }
   ],
   "source": [
    "end = datetime.date.today()\n",
    "\n",
    "endTime = datetime.datetime(end.year, end.month, end.day, 0, 0, 0).isoformat()\n",
    "\n",
    "endTime"
   ]
  }
 ]
}