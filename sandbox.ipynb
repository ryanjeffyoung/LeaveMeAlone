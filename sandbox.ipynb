{
 "metadata": {
  "language_info": {
   "codemirror_mode": {
    "name": "ipython",
    "version": 3
   },
   "file_extension": ".py",
   "mimetype": "text/x-python",
   "name": "python",
   "nbconvert_exporter": "python",
   "pygments_lexer": "ipython3",
   "version": "3.8.5-final"
  },
  "orig_nbformat": 2,
  "kernelspec": {
   "name": "python3",
   "display_name": "Python 3.8.5 64-bit",
   "metadata": {
    "interpreter": {
     "hash": "2db524e06e9f5f4ffedc911c917cb75e12dbc923643829bf417064a77eb14d37"
    }
   }
  }
 },
 "nbformat": 4,
 "nbformat_minor": 2,
 "cells": [
  {
   "cell_type": "code",
   "execution_count": 8,
   "metadata": {},
   "outputs": [],
   "source": [
    "import datetime\n",
    "def main():\n",
    "    service = get_calendar_service()\n",
    "\n",
    "    calId = 'ryan.jeffery.young@gmail.com'\n",
    "\n",
    "    # call APi\n",
    "    now = datetime.datetime.utcnow().isoformat() + 'Z' # z for UTC time\n",
    "    tmr = datetime.datetime.utcnow() + timedelta(days=2)\n",
    "    tmr_utc = tmr.isoformat() + 'Z'\n",
    "\n",
    "    body = {\n",
    "           \"timeMin\": now,\n",
    "           \"timeMax\": tmr_utc,\n",
    "           \"items\": [{\"id\": calId}]\n",
    "       }\n",
    "    \n",
    "    freebusy_result = service.freebusy().query(body=body).execute()\n",
    "\n",
    "    freebusy = freebusy_result[u'calendars']\n",
    "\n",
    "    busyList = freebusy[calId]['busy']\n",
    "\n",
    "\n",
    "    busy_cal = {}\n",
    "    for cal_name in freebusy:\n",
    "      busy_cal.update(freebusy[cal_name])\n",
    "\n",
    "    print((busyList[0])['start'])\n"
   ]
  },
  {
   "source": [
    "## Authentication"
   ],
   "cell_type": "markdown",
   "metadata": {}
  },
  {
   "cell_type": "code",
   "execution_count": 1,
   "metadata": {},
   "outputs": [],
   "source": [
    "import pickle\n",
    "import os.path\n",
    "from googleapiclient.discovery import build\n",
    "from google_auth_oauthlib.flow import InstalledAppFlow\n",
    "from google.auth.transport.requests import Request\n"
   ]
  },
  {
   "cell_type": "code",
   "execution_count": 2,
   "metadata": {},
   "outputs": [],
   "source": [
    "SCOPES = ['https://www.googleapis.com/auth/calendar.readonly']\n",
    "\n",
    "CREDENTIALS_FILE = 'credentials.json'"
   ]
  },
  {
   "cell_type": "code",
   "execution_count": 3,
   "metadata": {},
   "outputs": [],
   "source": [
    "creds = None\n",
    "    # The file token.pickle stores the user's access and refresh tokens, and is\n",
    "    # created automatically when the authorization flow completes for the first\n",
    "    # time.\n",
    "if os.path.exists('token.pickle'):\n",
    "    with open('token.pickle', 'rb') as token:\n",
    "        creds = pickle.load(token)\n",
    "    # If there are no (valid) credentials available, let the user log in.\n",
    "        if not creds or not creds.valid:\n",
    "            if creds and creds.expired and creds.refresh_token:\n",
    "                creds.refresh(Request())\n",
    "            else:\n",
    "                flow = InstalledAppFlow.from_client_secrets_file(\n",
    "                CREDENTIALS_FILE, SCOPES)\n",
    "                creds = flow.run_local_server(port=0)\n",
    "        # Save the credentials for the next run\n",
    "        with open('token.pickle', 'wb') as token:\n",
    "            pickle.dump(creds, token)\n",
    "service = build('calendar', 'v3', credentials=creds)"
   ]
  },
  {
   "source": [
    "## Call API\n"
   ],
   "cell_type": "markdown",
   "metadata": {}
  },
  {
   "cell_type": "code",
   "execution_count": 4,
   "metadata": {},
   "outputs": [],
   "source": [
    "import datetime\n",
    "from datetime import timedelta\n",
    "from datetimerange import DateTimeRange   \n",
    "from setup import get_calendar_service"
   ]
  },
  {
   "cell_type": "code",
   "execution_count": 5,
   "metadata": {},
   "outputs": [],
   "source": [
    "calId = 'ryan.jeffery.young@gmail.com'"
   ]
  },
  {
   "cell_type": "code",
   "execution_count": 6,
   "metadata": {},
   "outputs": [
    {
     "output_type": "execute_result",
     "data": {
      "text/plain": [
       "{'kind': 'calendar#freeBusy',\n",
       " 'timeMin': '2020-12-08T08:01:00.000Z',\n",
       " 'timeMax': '2020-12-09T08:00:00.000Z',\n",
       " 'calendars': {'ryan.jeffery.young@gmail.com': {'busy': []}}}"
      ]
     },
     "metadata": {},
     "execution_count": 6
    }
   ],
   "source": [
    "# get todays date\n",
    "today = datetime.date.today()\n",
    "tomorrow = today + timedelta(days=1)\n",
    "\n",
    "# convert date into datetime object at start of day, which is 800 UTC\n",
    "start = datetime.datetime(today.year, today.month, today.day, 8, 1, 0) # 8am UTC is 12am PST\n",
    "# convert to ISO format then append 'Z' for UTC time\n",
    "start_UTC = start.isoformat() + 'Z'\n",
    "\n",
    "end = datetime.datetime(today.year, today.month, tomorrow.day, 8, 0, 0) #7:59am UTC is 11:59pm PST\n",
    "end_UTC = end.isoformat() + 'Z'\n",
    "\n",
    "body = {\n",
    "           \"timeMin\": start_UTC,\n",
    "           \"timeMax\": end_UTC,\n",
    "           \"timeZone\": 'PST',\n",
    "           \"items\": [{\"id\": calId}]\n",
    "       }\n",
    "freebusy_result = service.freebusy().query(body=body).execute() # returns a dictionary \n",
    "\n",
    "freebusy_result"
   ]
  },
  {
   "cell_type": "code",
   "execution_count": 15,
   "metadata": {},
   "outputs": [
    {
     "output_type": "execute_result",
     "data": {
      "text/plain": [
       "[{'start': '2020-12-04T10:00:00-08:00', 'end': '2020-12-04T10:30:00-08:00'},\n",
       " {'start': '2020-12-04T11:00:00-08:00', 'end': '2020-12-04T12:00:00-08:00'},\n",
       " {'start': '2020-12-04T13:30:00-08:00', 'end': '2020-12-04T14:30:00-08:00'},\n",
       " {'start': '2020-12-04T15:30:00-08:00', 'end': '2020-12-04T16:00:00-08:00'}]"
      ]
     },
     "metadata": {},
     "execution_count": 15
    }
   ],
   "source": [
    "busy_list = freebusy_result['calendars'][calId]['busy'] # returns a list of busy times (in UTC)\n",
    "busy_list"
   ]
  },
  {
   "cell_type": "code",
   "execution_count": 9,
   "metadata": {},
   "outputs": [
    {
     "output_type": "execute_result",
     "data": {
      "text/plain": [
       "<function list.clear()>"
      ]
     },
     "metadata": {},
     "execution_count": 9
    }
   ],
   "source": [
    "busy_times = []\n",
    "busy_times.clear"
   ]
  },
  {
   "cell_type": "code",
   "execution_count": 10,
   "metadata": {},
   "outputs": [
    {
     "output_type": "execute_result",
     "data": {
      "text/plain": [
       "[['09:00', '09:15']]"
      ]
     },
     "metadata": {},
     "execution_count": 10
    }
   ],
   "source": [
    "for event in busy_list:\n",
    "    # get response from API\n",
    "    start_int = event['start']\n",
    "    end_int = event['end']\n",
    "\n",
    "    # convert responses into HH:MM\n",
    "    start_hr_min = start_int[11:16]\n",
    "    end_hr_mind = end_int[11:16]\n",
    "\n",
    "    # add start-end to array of busy times\n",
    "    busy_times.append([start_hr_min, end_hr_mind])\n",
    "busy_times"
   ]
  },
  {
   "cell_type": "code",
   "execution_count": 142,
   "metadata": {},
   "outputs": [
    {
     "output_type": "stream",
     "name": "stdout",
     "text": [
      "2020-11-24T12:00:00 - 2020-11-24T16:00:00\nNot busy right now!\n2020-11-25T04:23:29.518847\n2020-11-24T19:45:00 - 2020-11-24T21:00:00\nNot busy right now!\n2020-11-25T04:23:29.519848\n2020-11-24T22:30:00 - 2020-11-24T00:00:00\n"
     ]
    },
    {
     "output_type": "error",
     "ename": "ValueError",
     "evalue": "time inversion found: 2020-11-24 22:30:00 > 2020-11-24 00:00:00",
     "traceback": [
      "\u001b[1;31m---------------------------------------------------------------------------\u001b[0m",
      "\u001b[1;31mValueError\u001b[0m                                Traceback (most recent call last)",
      "\u001b[1;32m<ipython-input-142-cd9d68046f29>\u001b[0m in \u001b[0;36m<module>\u001b[1;34m\u001b[0m\n\u001b[0;32m      8\u001b[0m     \u001b[0mprint\u001b[0m\u001b[1;33m(\u001b[0m\u001b[0mtime_range\u001b[0m\u001b[1;33m)\u001b[0m\u001b[1;33m\u001b[0m\u001b[1;33m\u001b[0m\u001b[0m\n\u001b[0;32m      9\u001b[0m     \u001b[1;31m# check if current time within any set of start-end times\u001b[0m\u001b[1;33m\u001b[0m\u001b[1;33m\u001b[0m\u001b[1;33m\u001b[0m\u001b[0m\n\u001b[1;32m---> 10\u001b[1;33m     \u001b[1;32mif\u001b[0m \u001b[0mnow\u001b[0m \u001b[1;32min\u001b[0m \u001b[0mtime_range\u001b[0m\u001b[1;33m:\u001b[0m\u001b[1;33m\u001b[0m\u001b[1;33m\u001b[0m\u001b[0m\n\u001b[0m\u001b[0;32m     11\u001b[0m         \u001b[0mprint\u001b[0m\u001b[1;33m(\u001b[0m\u001b[1;34m'Busy until'\u001b[0m\u001b[1;33m,\u001b[0m \u001b[0mbusy_timeslot\u001b[0m\u001b[1;33m[\u001b[0m\u001b[1;36m1\u001b[0m\u001b[1;33m]\u001b[0m\u001b[1;33m)\u001b[0m\u001b[1;33m\u001b[0m\u001b[1;33m\u001b[0m\u001b[0m\n\u001b[0;32m     12\u001b[0m     \u001b[1;32melse\u001b[0m\u001b[1;33m:\u001b[0m\u001b[1;33m\u001b[0m\u001b[1;33m\u001b[0m\u001b[0m\n",
      "\u001b[1;32mC:\\Python38\\lib\\site-packages\\datetimerange\\__init__.py\u001b[0m in \u001b[0;36m__contains__\u001b[1;34m(self, x)\u001b[0m\n\u001b[0;32m    134\u001b[0m         \"\"\"\n\u001b[0;32m    135\u001b[0m \u001b[1;33m\u001b[0m\u001b[0m\n\u001b[1;32m--> 136\u001b[1;33m         \u001b[0mself\u001b[0m\u001b[1;33m.\u001b[0m\u001b[0mvalidate_time_inversion\u001b[0m\u001b[1;33m(\u001b[0m\u001b[1;33m)\u001b[0m\u001b[1;33m\u001b[0m\u001b[1;33m\u001b[0m\u001b[0m\n\u001b[0m\u001b[0;32m    137\u001b[0m \u001b[1;33m\u001b[0m\u001b[0m\n\u001b[0;32m    138\u001b[0m         \u001b[1;32mif\u001b[0m \u001b[0misinstance\u001b[0m\u001b[1;33m(\u001b[0m\u001b[0mx\u001b[0m\u001b[1;33m,\u001b[0m \u001b[0mDateTimeRange\u001b[0m\u001b[1;33m)\u001b[0m\u001b[1;33m:\u001b[0m\u001b[1;33m\u001b[0m\u001b[1;33m\u001b[0m\u001b[0m\n",
      "\u001b[1;32mC:\\Python38\\lib\\site-packages\\datetimerange\\__init__.py\u001b[0m in \u001b[0;36mvalidate_time_inversion\u001b[1;34m(self)\u001b[0m\n\u001b[0;32m    264\u001b[0m \u001b[1;33m\u001b[0m\u001b[0m\n\u001b[0;32m    265\u001b[0m         \u001b[1;32mif\u001b[0m \u001b[0mself\u001b[0m\u001b[1;33m.\u001b[0m\u001b[0mstart_datetime\u001b[0m \u001b[1;33m>\u001b[0m \u001b[0mself\u001b[0m\u001b[1;33m.\u001b[0m\u001b[0mend_datetime\u001b[0m\u001b[1;33m:\u001b[0m\u001b[1;33m\u001b[0m\u001b[1;33m\u001b[0m\u001b[0m\n\u001b[1;32m--> 266\u001b[1;33m             raise ValueError(\n\u001b[0m\u001b[0;32m    267\u001b[0m                 \"time inversion found: {:s} > {:s}\".format(\n\u001b[0;32m    268\u001b[0m                     \u001b[0mstr\u001b[0m\u001b[1;33m(\u001b[0m\u001b[0mself\u001b[0m\u001b[1;33m.\u001b[0m\u001b[0mstart_datetime\u001b[0m\u001b[1;33m)\u001b[0m\u001b[1;33m,\u001b[0m \u001b[0mstr\u001b[0m\u001b[1;33m(\u001b[0m\u001b[0mself\u001b[0m\u001b[1;33m.\u001b[0m\u001b[0mend_datetime\u001b[0m\u001b[1;33m)\u001b[0m\u001b[1;33m\u001b[0m\u001b[1;33m\u001b[0m\u001b[0m\n",
      "\u001b[1;31mValueError\u001b[0m: time inversion found: 2020-11-24 22:30:00 > 2020-11-24 00:00:00"
     ]
    }
   ],
   "source": [
    "for busy_timeslot in busy_times:\n",
    "    # set time range as start of busy time to end of busy time, for each busy event in list\n",
    "    time_range = DateTimeRange(busy_timeslot[0], busy_timeslot[1])\n",
    "    \n",
    "    # set current time\n",
    "    now =  datetime.datetime.utcnow().isoformat()\n",
    "    \n",
    "    print(time_range)\n",
    "    # check if current time within any set of start-end times\n",
    "    if now in time_range:\n",
    "        print('Busy until', busy_timeslot[1])\n",
    "    else:\n",
    "        print('Not busy right now!')\n",
    "        print(now)\n"
   ]
  },
  {
   "cell_type": "code",
   "execution_count": 11,
   "metadata": {},
   "outputs": [
    {
     "output_type": "stream",
     "name": "stdout",
     "text": [
      "yuh\n"
     ]
    }
   ],
   "source": [
    "# set time range as start of today to end of day\n",
    "time_range = DateTimeRange(start_UTC, end_UTC)\n",
    "# get current time, in UTC\n",
    "now =  datetime.datetime.utcnow().isoformat() + '+00:00'\n",
    "future = datetime.datetime(2020, 11, 26, 8, 0, 0).isoformat() + '+00:00'\n",
    "\n",
    "if now in time_range:\n",
    "    print('yuh')\n",
    "else:\n",
    "    print('nah')\n"
   ]
  },
  {
   "cell_type": "code",
   "execution_count": 32,
   "metadata": {},
   "outputs": [
    {
     "output_type": "stream",
     "name": "stdout",
     "text": [
      "False\n"
     ]
    }
   ],
   "source": [
    "beg = '2020-12-04T18:00:00Z'\n",
    "end = '2020-12-04T18:30:00Z'\n",
    "\n",
    "time_range = DateTimeRange(beg, end)\n",
    "\n",
    "print(now in time_range)"
   ]
  },
  {
   "cell_type": "code",
   "execution_count": 20,
   "metadata": {},
   "outputs": [
    {
     "output_type": "execute_result",
     "data": {
      "text/plain": [
       "'2020-12-05T02:38:57.678511Z'"
      ]
     },
     "metadata": {},
     "execution_count": 20
    }
   ],
   "source": [
    "now = datetime.datetime.utcnow().isoformat() + 'Z'\n",
    "now"
   ]
  },
  {
   "cell_type": "code",
   "execution_count": 36,
   "metadata": {},
   "outputs": [
    {
     "output_type": "stream",
     "name": "stdout",
     "text": [
      "yuh\n"
     ]
    }
   ],
   "source": [
    "if now > end:\n",
    "    print('yuh')"
   ]
  },
  {
   "cell_type": "code",
   "execution_count": 33,
   "metadata": {},
   "outputs": [
    {
     "output_type": "execute_result",
     "data": {
      "text/plain": [
       "'2020-12-04T18:30:00Z'"
      ]
     },
     "metadata": {},
     "execution_count": 33
    }
   ],
   "source": [
    "end"
   ]
  }
 ]
}